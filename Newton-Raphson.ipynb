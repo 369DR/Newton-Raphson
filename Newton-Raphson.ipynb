import numpy as np
import matplotlib.pyplot as plt
from math import e  # Untuk mengambil bilangan eksponen natural (e)

# Mendefinisikan fungsi
def f(x):
    return e**x - 5*x**2

# Mendefinisikan turunan fungsi
def Df(x):
    return e**x - 10*x

# Metode Newton-Raphson
def newtonRaphson(x0, eps):
    print("\n---METODE NEWTON RAPHSON---\n")
    xn = x0
    for step in range(0, 100):  # Maksimal iterasi adalah 100
        fxn = f(xn)
        if abs(fxn) < eps:
            print(f"\nAkar Persamaan tersebut : {xn:.8f} \n")
            return xn
        Dfxn = Df(xn)
        if Dfxn == 0:
            print("Solusi tidak ditemukan")
            return None
        xn = xn - fxn / Dfxn
        print(f"Iterasi-{step+1}: x = {xn:.6f} dan f(x) = {f(xn):.6f}")
    print("Iterasi maksimum, solusi tidak ditemukan")
    return None

# Sesi Input Nilai awal yang dikonversi ke pecahan
x0 = float(input("x0 : "))
eps = float(input("epsilon : "))
newtonRaphson(x0, eps)
